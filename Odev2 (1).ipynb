{
 "cells": [
  {
   "cell_type": "code",
   "execution_count": 7,
   "id": "julian-helena",
   "metadata": {},
   "outputs": [],
   "source": [
    "CV1 = {'Ad:': 'Ayse', 'Soyadi:':'Yilmaz', 'Yas:': 25, 'Meslek:': 'Yazilim Muhendisi', 'YabanciDil:':'Ingilizce'}\n",
    "CV2 = {'Ad:': 'Fatma', 'Soyadi:':'Dogan', 'Yas:': 30, 'Meslek:': 'Bilgisayar Muhendisi', 'YabanciDil:':'Almanca'}\n",
    "CV3 = {'Ad:': 'Murat', 'Soyadi:': 'Turk', 'Yas:':28, 'Meslek:':'Endustri Muhendisi', 'YabanciDil:':'Ingilizce'}\n",
    "CV4 = {'Ad:': 'Nese', 'Soyadi:': 'Kaya', 'Yas:': 24, 'Meslek:': 'Yazilim Muhendisi', 'YabanciDil:': 'Fransizca'}\n",
    "CV5 = {'Ad:': 'Merve', 'Soyadi:': 'Demir', 'Yas:':27, 'Meslek:':'Elektrik Muhendisi', 'YabanciDil:':'Ingilizce'}"
   ]
  },
  {
   "cell_type": "code",
   "execution_count": 8,
   "id": "selective-boards",
   "metadata": {},
   "outputs": [
    {
     "name": "stdout",
     "output_type": "stream",
     "text": [
      "Ad: Ayse\n",
      "Soyadi: Yilmaz\n",
      "Yas: 25\n",
      "Meslek: Yazilim Muhendisi\n",
      "YabanciDil: Ingilizce\n"
     ]
    }
   ],
   "source": [
    "for i,k in CV1.items():\n",
    "    print(i,k)"
   ]
  },
  {
   "cell_type": "code",
   "execution_count": 9,
   "id": "acquired-utilization",
   "metadata": {},
   "outputs": [
    {
     "name": "stdout",
     "output_type": "stream",
     "text": [
      "Ad: Fatma\n",
      "Soyadi: Dogan\n",
      "Yas: 30\n",
      "Meslek: Bilgisayar Muhendisi\n",
      "YabanciDil: Almanca\n"
     ]
    }
   ],
   "source": [
    "for i,k in CV2.items():\n",
    "    print(i,k)"
   ]
  },
  {
   "cell_type": "code",
   "execution_count": 10,
   "id": "productive-confusion",
   "metadata": {},
   "outputs": [
    {
     "name": "stdout",
     "output_type": "stream",
     "text": [
      "Ad: Murat\n",
      "Soyadi: Turk\n",
      "Yas: 28\n",
      "Meslek: Endustri Muhendisi\n",
      "YabanciDil: Ingilizce\n"
     ]
    }
   ],
   "source": [
    "for i,k in CV3.items():\n",
    "    print(i,k)"
   ]
  },
  {
   "cell_type": "code",
   "execution_count": 11,
   "id": "stock-insider",
   "metadata": {},
   "outputs": [
    {
     "name": "stdout",
     "output_type": "stream",
     "text": [
      "Ad: Nese\n",
      "Soyadi: Kaya\n",
      "Yas: 24\n",
      "Meslek: Yazilim Muhendisi\n",
      "YabanciDil: Fransizca\n"
     ]
    }
   ],
   "source": [
    "for i,k in CV4.items():\n",
    "    print(i,k)"
   ]
  },
  {
   "cell_type": "code",
   "execution_count": 12,
   "id": "imposed-union",
   "metadata": {},
   "outputs": [
    {
     "name": "stdout",
     "output_type": "stream",
     "text": [
      "Ad: Merve\n",
      "Soyadi: Demir\n",
      "Yas: 27\n",
      "Meslek: Elektrik Muhendisi\n",
      "YabanciDil: Ingilizce\n"
     ]
    }
   ],
   "source": [
    "for i,k in CV5.items():\n",
    "    print(i,k)"
   ]
  },
  {
   "cell_type": "code",
   "execution_count": null,
   "id": "trained-intake",
   "metadata": {},
   "outputs": [],
   "source": []
  }
 ],
 "metadata": {
  "kernelspec": {
   "display_name": "Python 3",
   "language": "python",
   "name": "python3"
  },
  "language_info": {
   "codemirror_mode": {
    "name": "ipython",
    "version": 3
   },
   "file_extension": ".py",
   "mimetype": "text/x-python",
   "name": "python",
   "nbconvert_exporter": "python",
   "pygments_lexer": "ipython3",
   "version": "3.9.2"
  }
 },
 "nbformat": 4,
 "nbformat_minor": 5
}
